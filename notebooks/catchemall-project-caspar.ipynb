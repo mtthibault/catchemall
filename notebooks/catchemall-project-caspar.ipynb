{
 "cells": [
  {
   "cell_type": "markdown",
   "metadata": {},
   "source": [
    "# Caspar's notebook"
   ]
  },
  {
   "cell_type": "markdown",
   "metadata": {},
   "source": [
    "Scrape some images?"
   ]
  },
  {
   "cell_type": "code",
   "execution_count": 35,
   "metadata": {},
   "outputs": [],
   "source": [
    "# ! pip install beautifulsoup4 requests pandas\n"
   ]
  },
  {
   "cell_type": "code",
   "execution_count": 37,
   "metadata": {},
   "outputs": [
    {
     "name": "stdout",
     "output_type": "stream",
     "text": [
      "        name  \\\n",
      "0  Bulbasaur   \n",
      "1    Unknown   \n",
      "2    Ivysaur   \n",
      "3    Unknown   \n",
      "4   Venusaur   \n",
      "\n",
      "                                                                  image  \\\n",
      "0  https://img.pokemondb.net/sprites/home/normal/2x/avif/bulbasaur.avif   \n",
      "1                                                                  None   \n",
      "2    https://img.pokemondb.net/sprites/home/normal/2x/avif/ivysaur.avif   \n",
      "3                                                                  None   \n",
      "4   https://img.pokemondb.net/sprites/home/normal/2x/avif/venusaur.avif   \n",
      "\n",
      "           types  \n",
      "0  Grass, Poison  \n",
      "1                 \n",
      "2  Grass, Poison  \n",
      "3                 \n",
      "4  Grass, Poison  \n"
     ]
    }
   ],
   "source": [
    "import requests\n",
    "from bs4 import BeautifulSoup\n",
    "import pandas as pd\n",
    "\n",
    "# URL to scrape\n",
    "url = 'https://pokemondb.net/evolution'\n",
    "\n",
    "# Send a GET request to the URL\n",
    "response = requests.get(url)\n",
    "\n",
    "if response.status_code == 200:\n",
    "    soup = BeautifulSoup(response.content, 'html.parser')\n",
    "    infocard_lists = soup.find_all(class_='infocard-list-evo')\n",
    "\n",
    "    # Prepare a list to hold the scraped data\n",
    "    data = []\n",
    "\n",
    "    # Iterate over each infocard-list-evo\n",
    "    for infocard_list in infocard_lists:\n",
    "        # Iterate over each infocard within the list\n",
    "        for pokemon in infocard_list.find_all(class_='infocard'):\n",
    "            source_tag = pokemon.find('source')\n",
    "            if source_tag and 'srcset' in source_tag.attrs:\n",
    "                # Get the first URL from srcset\n",
    "                image_url = source_tag['srcset'].split()[0]\n",
    "            else:\n",
    "                image_url = None  # or some default value\n",
    "\n",
    "            name_tag = pokemon.find('a', class_='ent-name')\n",
    "            if name_tag:\n",
    "                name = name_tag.text\n",
    "            else:\n",
    "                name = \"Unknown\"  # or some default value\n",
    "\n",
    "            type_tags = pokemon.find_all(class_='itype')\n",
    "            types = [type_.text for type_ in type_tags] if type_tags else []\n",
    "\n",
    "            data.append({\n",
    "                'name': name,\n",
    "                'image': image_url,\n",
    "                'types': ', '.join(types)\n",
    "            })\n",
    "\n",
    "    # Convert the list to a DataFrame\n",
    "    pokemon_df = pd.DataFrame(data)\n",
    "\n",
    "    # Save the DataFrame to a CSV file\n",
    "    pokemon_df.to_csv('pokemon_data.csv', index=False)\n",
    "\n",
    "    # Display the first few rows of the DataFrame\n",
    "    print(pokemon_df.head())\n",
    "else:\n",
    "    print(\"Failed to scrape the page\")\n"
   ]
  },
  {
   "cell_type": "code",
   "execution_count": 38,
   "metadata": {},
   "outputs": [
    {
     "data": {
      "text/html": [
       "<div>\n",
       "<style scoped>\n",
       "    .dataframe tbody tr th:only-of-type {\n",
       "        vertical-align: middle;\n",
       "    }\n",
       "\n",
       "    .dataframe tbody tr th {\n",
       "        vertical-align: top;\n",
       "    }\n",
       "\n",
       "    .dataframe thead th {\n",
       "        text-align: right;\n",
       "    }\n",
       "</style>\n",
       "<table border=\"1\" class=\"dataframe\">\n",
       "  <thead>\n",
       "    <tr style=\"text-align: right;\">\n",
       "      <th></th>\n",
       "      <th>name</th>\n",
       "      <th>image</th>\n",
       "      <th>types</th>\n",
       "    </tr>\n",
       "  </thead>\n",
       "  <tbody>\n",
       "    <tr>\n",
       "      <th>0</th>\n",
       "      <td>Bulbasaur</td>\n",
       "      <td>https://img.pokemondb.net/sprites/home/normal/2x/avif/bulbasaur.avif</td>\n",
       "      <td>Grass, Poison</td>\n",
       "    </tr>\n",
       "    <tr>\n",
       "      <th>1</th>\n",
       "      <td>Unknown</td>\n",
       "      <td>None</td>\n",
       "      <td></td>\n",
       "    </tr>\n",
       "    <tr>\n",
       "      <th>2</th>\n",
       "      <td>Ivysaur</td>\n",
       "      <td>https://img.pokemondb.net/sprites/home/normal/2x/avif/ivysaur.avif</td>\n",
       "      <td>Grass, Poison</td>\n",
       "    </tr>\n",
       "    <tr>\n",
       "      <th>3</th>\n",
       "      <td>Unknown</td>\n",
       "      <td>None</td>\n",
       "      <td></td>\n",
       "    </tr>\n",
       "    <tr>\n",
       "      <th>4</th>\n",
       "      <td>Venusaur</td>\n",
       "      <td>https://img.pokemondb.net/sprites/home/normal/2x/avif/venusaur.avif</td>\n",
       "      <td>Grass, Poison</td>\n",
       "    </tr>\n",
       "    <tr>\n",
       "      <th>5</th>\n",
       "      <td>Charmander</td>\n",
       "      <td>https://img.pokemondb.net/sprites/home/normal/2x/avif/charmander.avif</td>\n",
       "      <td>Fire</td>\n",
       "    </tr>\n",
       "    <tr>\n",
       "      <th>6</th>\n",
       "      <td>Unknown</td>\n",
       "      <td>None</td>\n",
       "      <td></td>\n",
       "    </tr>\n",
       "    <tr>\n",
       "      <th>7</th>\n",
       "      <td>Charmeleon</td>\n",
       "      <td>https://img.pokemondb.net/sprites/home/normal/2x/avif/charmeleon.avif</td>\n",
       "      <td>Fire</td>\n",
       "    </tr>\n",
       "    <tr>\n",
       "      <th>8</th>\n",
       "      <td>Unknown</td>\n",
       "      <td>None</td>\n",
       "      <td></td>\n",
       "    </tr>\n",
       "    <tr>\n",
       "      <th>9</th>\n",
       "      <td>Charizard</td>\n",
       "      <td>https://img.pokemondb.net/sprites/home/normal/2x/avif/charizard.avif</td>\n",
       "      <td>Fire, Flying</td>\n",
       "    </tr>\n",
       "    <tr>\n",
       "      <th>10</th>\n",
       "      <td>Squirtle</td>\n",
       "      <td>https://img.pokemondb.net/sprites/home/normal/2x/avif/squirtle.avif</td>\n",
       "      <td>Water</td>\n",
       "    </tr>\n",
       "    <tr>\n",
       "      <th>11</th>\n",
       "      <td>Unknown</td>\n",
       "      <td>None</td>\n",
       "      <td></td>\n",
       "    </tr>\n",
       "    <tr>\n",
       "      <th>12</th>\n",
       "      <td>Wartortle</td>\n",
       "      <td>https://img.pokemondb.net/sprites/home/normal/2x/avif/wartortle.avif</td>\n",
       "      <td>Water</td>\n",
       "    </tr>\n",
       "    <tr>\n",
       "      <th>13</th>\n",
       "      <td>Unknown</td>\n",
       "      <td>None</td>\n",
       "      <td></td>\n",
       "    </tr>\n",
       "    <tr>\n",
       "      <th>14</th>\n",
       "      <td>Blastoise</td>\n",
       "      <td>https://img.pokemondb.net/sprites/home/normal/2x/avif/blastoise.avif</td>\n",
       "      <td>Water</td>\n",
       "    </tr>\n",
       "    <tr>\n",
       "      <th>15</th>\n",
       "      <td>Caterpie</td>\n",
       "      <td>https://img.pokemondb.net/sprites/home/normal/2x/avif/caterpie.avif</td>\n",
       "      <td>Bug</td>\n",
       "    </tr>\n",
       "    <tr>\n",
       "      <th>16</th>\n",
       "      <td>Unknown</td>\n",
       "      <td>None</td>\n",
       "      <td></td>\n",
       "    </tr>\n",
       "    <tr>\n",
       "      <th>17</th>\n",
       "      <td>Metapod</td>\n",
       "      <td>https://img.pokemondb.net/sprites/home/normal/2x/avif/metapod.avif</td>\n",
       "      <td>Bug</td>\n",
       "    </tr>\n",
       "    <tr>\n",
       "      <th>18</th>\n",
       "      <td>Unknown</td>\n",
       "      <td>None</td>\n",
       "      <td></td>\n",
       "    </tr>\n",
       "    <tr>\n",
       "      <th>19</th>\n",
       "      <td>Butterfree</td>\n",
       "      <td>https://img.pokemondb.net/sprites/home/normal/2x/avif/butterfree.avif</td>\n",
       "      <td>Bug, Flying</td>\n",
       "    </tr>\n",
       "  </tbody>\n",
       "</table>\n",
       "</div>"
      ],
      "text/plain": [
       "          name  \\\n",
       "0    Bulbasaur   \n",
       "1      Unknown   \n",
       "2      Ivysaur   \n",
       "3      Unknown   \n",
       "4     Venusaur   \n",
       "5   Charmander   \n",
       "6      Unknown   \n",
       "7   Charmeleon   \n",
       "8      Unknown   \n",
       "9    Charizard   \n",
       "10    Squirtle   \n",
       "11     Unknown   \n",
       "12   Wartortle   \n",
       "13     Unknown   \n",
       "14   Blastoise   \n",
       "15    Caterpie   \n",
       "16     Unknown   \n",
       "17     Metapod   \n",
       "18     Unknown   \n",
       "19  Butterfree   \n",
       "\n",
       "                                                                    image  \\\n",
       "0    https://img.pokemondb.net/sprites/home/normal/2x/avif/bulbasaur.avif   \n",
       "1                                                                    None   \n",
       "2      https://img.pokemondb.net/sprites/home/normal/2x/avif/ivysaur.avif   \n",
       "3                                                                    None   \n",
       "4     https://img.pokemondb.net/sprites/home/normal/2x/avif/venusaur.avif   \n",
       "5   https://img.pokemondb.net/sprites/home/normal/2x/avif/charmander.avif   \n",
       "6                                                                    None   \n",
       "7   https://img.pokemondb.net/sprites/home/normal/2x/avif/charmeleon.avif   \n",
       "8                                                                    None   \n",
       "9    https://img.pokemondb.net/sprites/home/normal/2x/avif/charizard.avif   \n",
       "10    https://img.pokemondb.net/sprites/home/normal/2x/avif/squirtle.avif   \n",
       "11                                                                   None   \n",
       "12   https://img.pokemondb.net/sprites/home/normal/2x/avif/wartortle.avif   \n",
       "13                                                                   None   \n",
       "14   https://img.pokemondb.net/sprites/home/normal/2x/avif/blastoise.avif   \n",
       "15    https://img.pokemondb.net/sprites/home/normal/2x/avif/caterpie.avif   \n",
       "16                                                                   None   \n",
       "17     https://img.pokemondb.net/sprites/home/normal/2x/avif/metapod.avif   \n",
       "18                                                                   None   \n",
       "19  https://img.pokemondb.net/sprites/home/normal/2x/avif/butterfree.avif   \n",
       "\n",
       "            types  \n",
       "0   Grass, Poison  \n",
       "1                  \n",
       "2   Grass, Poison  \n",
       "3                  \n",
       "4   Grass, Poison  \n",
       "5            Fire  \n",
       "6                  \n",
       "7            Fire  \n",
       "8                  \n",
       "9    Fire, Flying  \n",
       "10          Water  \n",
       "11                 \n",
       "12          Water  \n",
       "13                 \n",
       "14          Water  \n",
       "15            Bug  \n",
       "16                 \n",
       "17            Bug  \n",
       "18                 \n",
       "19    Bug, Flying  "
      ]
     },
     "execution_count": 38,
     "metadata": {},
     "output_type": "execute_result"
    }
   ],
   "source": [
    "# pd.set_option('display.max_colwidth', None)  # or use a specific large number instead of None\n",
    "\n",
    "# pokemon_df.head(20)\n"
   ]
  },
  {
   "cell_type": "code",
   "execution_count": 39,
   "metadata": {},
   "outputs": [
    {
     "name": "stdout",
     "output_type": "stream",
     "text": [
      "https://img.pokemondb.net/sprites/home/normal/2x/avif/bulbasaur.avif\n",
      "None\n",
      "https://img.pokemondb.net/sprites/home/normal/2x/avif/ivysaur.avif\n",
      "None\n",
      "https://img.pokemondb.net/sprites/home/normal/2x/avif/venusaur.avif\n",
      "https://img.pokemondb.net/sprites/home/normal/2x/avif/charmander.avif\n",
      "None\n",
      "https://img.pokemondb.net/sprites/home/normal/2x/avif/charmeleon.avif\n",
      "None\n",
      "https://img.pokemondb.net/sprites/home/normal/2x/avif/charizard.avif\n"
     ]
    }
   ],
   "source": [
    "# Print the first few image URLs to check their full length\n",
    "for url in pokemon_df['image'].head(10):\n",
    "    print(url)\n"
   ]
  },
  {
   "cell_type": "code",
   "execution_count": 40,
   "metadata": {},
   "outputs": [],
   "source": [
    "# https://img.pokemondb.net/artwork/ivysaur.jpg\n"
   ]
  },
  {
   "cell_type": "markdown",
   "metadata": {},
   "source": [
    "Clean the scraped data"
   ]
  },
  {
   "cell_type": "markdown",
   "metadata": {},
   "source": [
    "1 - duplicates"
   ]
  },
  {
   "cell_type": "code",
   "execution_count": 41,
   "metadata": {},
   "outputs": [
    {
     "name": "stdout",
     "output_type": "stream",
     "text": [
      "           name image          types\n",
      "3       Unknown  None               \n",
      "6       Unknown  None               \n",
      "8       Unknown  None               \n",
      "11      Unknown  None               \n",
      "13      Unknown  None               \n",
      "...         ...   ...            ...\n",
      "1561  Armarouge  None  Fire, Psychic\n",
      "1562    Unknown  None               \n",
      "1563  Ceruledge  None    Fire, Ghost\n",
      "1565    Unknown  None               \n",
      "1568    Unknown  None               \n",
      "\n",
      "[690 rows x 3 columns]\n"
     ]
    }
   ],
   "source": [
    "# To view the duplicate rows\n",
    "duplicate_rows = pokemon_df[pokemon_df.duplicated()]\n",
    "\n",
    "print(duplicate_rows)\n"
   ]
  },
  {
   "cell_type": "code",
   "execution_count": 42,
   "metadata": {},
   "outputs": [
    {
     "name": "stdout",
     "output_type": "stream",
     "text": [
      "           name  \\\n",
      "50       Raichu   \n",
      "52       Raichu   \n",
      "98    Vileplume   \n",
      "100   Bellossom   \n",
      "144   Poliwrath   \n",
      "...         ...   \n",
      "1506   Maushold   \n",
      "1508   Maushold   \n",
      "1510   Maushold   \n",
      "1561  Armarouge   \n",
      "1563  Ceruledge   \n",
      "\n",
      "                                                                         image  \\\n",
      "50           https://img.pokemondb.net/sprites/home/normal/2x/avif/raichu.avif   \n",
      "52    https://img.pokemondb.net/sprites/home/normal/2x/avif/raichu-alolan.avif   \n",
      "98        https://img.pokemondb.net/sprites/home/normal/2x/avif/vileplume.avif   \n",
      "100       https://img.pokemondb.net/sprites/home/normal/2x/avif/bellossom.avif   \n",
      "144       https://img.pokemondb.net/sprites/home/normal/2x/avif/poliwrath.avif   \n",
      "...                                                                        ...   \n",
      "1506                                                                      None   \n",
      "1508                                                                      None   \n",
      "1510                                                                      None   \n",
      "1561                                                                      None   \n",
      "1563                                                                      None   \n",
      "\n",
      "                  types  \n",
      "50             Electric  \n",
      "52    Electric, Psychic  \n",
      "98        Grass, Poison  \n",
      "100               Grass  \n",
      "144     Water, Fighting  \n",
      "...                 ...  \n",
      "1506             Normal  \n",
      "1508             Normal  \n",
      "1510             Normal  \n",
      "1561      Fire, Psychic  \n",
      "1563        Fire, Ghost  \n",
      "\n",
      "[90 rows x 3 columns]\n"
     ]
    }
   ],
   "source": [
    "# Filter out rows where name is 'Unknown'\n",
    "filtered_df = pokemon_df[pokemon_df['name'] != 'Unknown']\n",
    "\n",
    "# Find duplicates in the filtered DataFrame\n",
    "duplicate_rows_filtered = filtered_df[filtered_df.duplicated()]\n",
    "\n",
    "# Display the duplicate rows\n",
    "print(duplicate_rows_filtered)\n"
   ]
  },
  {
   "cell_type": "code",
   "execution_count": 43,
   "metadata": {},
   "outputs": [
    {
     "name": "stdout",
     "output_type": "stream",
     "text": [
      "         name  \\\n",
      "0   Bulbasaur   \n",
      "2     Ivysaur   \n",
      "4    Venusaur   \n",
      "5  Charmander   \n",
      "7  Charmeleon   \n",
      "\n",
      "                                                                   image  \\\n",
      "0   https://img.pokemondb.net/sprites/home/normal/2x/avif/bulbasaur.avif   \n",
      "2     https://img.pokemondb.net/sprites/home/normal/2x/avif/ivysaur.avif   \n",
      "4    https://img.pokemondb.net/sprites/home/normal/2x/avif/venusaur.avif   \n",
      "5  https://img.pokemondb.net/sprites/home/normal/2x/avif/charmander.avif   \n",
      "7  https://img.pokemondb.net/sprites/home/normal/2x/avif/charmeleon.avif   \n",
      "\n",
      "           types  \n",
      "0  Grass, Poison  \n",
      "2  Grass, Poison  \n",
      "4  Grass, Poison  \n",
      "5           Fire  \n",
      "7           Fire  \n"
     ]
    }
   ],
   "source": [
    "# Filter out rows where the 'image' column is 'no_image_available.jpg' or None\n",
    "filtered_df = pokemon_df[pokemon_df['image'] != 'no_image_available.jpg']\n",
    "filtered_df = filtered_df[pokemon_df['name'] != 'Unknown']\n",
    "\n",
    "filtered_df = filtered_df[filtered_df['image'].notna()]\n",
    "\n",
    "print(filtered_df.head())\n"
   ]
  },
  {
   "cell_type": "code",
   "execution_count": 44,
   "metadata": {},
   "outputs": [
    {
     "data": {
      "text/html": [
       "<div>\n",
       "<style scoped>\n",
       "    .dataframe tbody tr th:only-of-type {\n",
       "        vertical-align: middle;\n",
       "    }\n",
       "\n",
       "    .dataframe tbody tr th {\n",
       "        vertical-align: top;\n",
       "    }\n",
       "\n",
       "    .dataframe thead th {\n",
       "        text-align: right;\n",
       "    }\n",
       "</style>\n",
       "<table border=\"1\" class=\"dataframe\">\n",
       "  <thead>\n",
       "    <tr style=\"text-align: right;\">\n",
       "      <th></th>\n",
       "      <th>name</th>\n",
       "      <th>image</th>\n",
       "      <th>types</th>\n",
       "    </tr>\n",
       "  </thead>\n",
       "  <tbody>\n",
       "    <tr>\n",
       "      <th>0</th>\n",
       "      <td>Bulbasaur</td>\n",
       "      <td>https://img.pokemondb.net/sprites/home/normal/2x/avif/bulbasaur.avif</td>\n",
       "      <td>Grass, Poison</td>\n",
       "    </tr>\n",
       "    <tr>\n",
       "      <th>2</th>\n",
       "      <td>Ivysaur</td>\n",
       "      <td>https://img.pokemondb.net/sprites/home/normal/2x/avif/ivysaur.avif</td>\n",
       "      <td>Grass, Poison</td>\n",
       "    </tr>\n",
       "    <tr>\n",
       "      <th>4</th>\n",
       "      <td>Venusaur</td>\n",
       "      <td>https://img.pokemondb.net/sprites/home/normal/2x/avif/venusaur.avif</td>\n",
       "      <td>Grass, Poison</td>\n",
       "    </tr>\n",
       "    <tr>\n",
       "      <th>5</th>\n",
       "      <td>Charmander</td>\n",
       "      <td>https://img.pokemondb.net/sprites/home/normal/2x/avif/charmander.avif</td>\n",
       "      <td>Fire</td>\n",
       "    </tr>\n",
       "    <tr>\n",
       "      <th>7</th>\n",
       "      <td>Charmeleon</td>\n",
       "      <td>https://img.pokemondb.net/sprites/home/normal/2x/avif/charmeleon.avif</td>\n",
       "      <td>Fire</td>\n",
       "    </tr>\n",
       "  </tbody>\n",
       "</table>\n",
       "</div>"
      ],
      "text/plain": [
       "         name  \\\n",
       "0   Bulbasaur   \n",
       "2     Ivysaur   \n",
       "4    Venusaur   \n",
       "5  Charmander   \n",
       "7  Charmeleon   \n",
       "\n",
       "                                                                   image  \\\n",
       "0   https://img.pokemondb.net/sprites/home/normal/2x/avif/bulbasaur.avif   \n",
       "2     https://img.pokemondb.net/sprites/home/normal/2x/avif/ivysaur.avif   \n",
       "4    https://img.pokemondb.net/sprites/home/normal/2x/avif/venusaur.avif   \n",
       "5  https://img.pokemondb.net/sprites/home/normal/2x/avif/charmander.avif   \n",
       "7  https://img.pokemondb.net/sprites/home/normal/2x/avif/charmeleon.avif   \n",
       "\n",
       "           types  \n",
       "0  Grass, Poison  \n",
       "2  Grass, Poison  \n",
       "4  Grass, Poison  \n",
       "5           Fire  \n",
       "7           Fire  "
      ]
     },
     "execution_count": 44,
     "metadata": {},
     "output_type": "execute_result"
    }
   ],
   "source": [
    "# pokemon_df = pokemon_df.drop_duplicates()\n",
    "filtered_df.head()\n"
   ]
  },
  {
   "cell_type": "markdown",
   "metadata": {},
   "source": [
    "check missing values"
   ]
  },
  {
   "cell_type": "markdown",
   "metadata": {},
   "source": [
    "standardize data formats"
   ]
  },
  {
   "cell_type": "code",
   "execution_count": 45,
   "metadata": {},
   "outputs": [],
   "source": [
    "# # Ensure names are capitalized\n",
    "# pokemon_df['name'] = pokemon_df['name'].str.capitalize()\n"
   ]
  },
  {
   "cell_type": "markdown",
   "metadata": {},
   "source": [
    "remove unnecessary columns"
   ]
  },
  {
   "cell_type": "code",
   "execution_count": 46,
   "metadata": {},
   "outputs": [],
   "source": [
    "# Example: Drop a column if needed\n",
    "# pokemon_df = pokemon_df.drop(columns=['unnecessary_column'])\n"
   ]
  },
  {
   "cell_type": "markdown",
   "metadata": {},
   "source": [
    "split columns if needed"
   ]
  },
  {
   "cell_type": "code",
   "execution_count": 47,
   "metadata": {},
   "outputs": [],
   "source": [
    "# Example: If you have a column that needs to be split\n",
    "# pokemon_df[['part1', 'part2']] = pokemon_df['combined_column'].str.split(' ', expand=True)\n"
   ]
  },
  {
   "cell_type": "markdown",
   "metadata": {},
   "source": [
    "Save to csv"
   ]
  },
  {
   "cell_type": "code",
   "execution_count": 50,
   "metadata": {},
   "outputs": [],
   "source": [
    "filtered_df.to_csv('pokemon_data_from_pokemondb_net_evolution_page.csv', index=False)\n"
   ]
  },
  {
   "cell_type": "code",
   "execution_count": null,
   "metadata": {},
   "outputs": [],
   "source": []
  },
  {
   "cell_type": "markdown",
   "metadata": {},
   "source": [
    "# OK now for the preprocessing bit"
   ]
  },
  {
   "cell_type": "code",
   "execution_count": null,
   "metadata": {},
   "outputs": [],
   "source": []
  }
 ],
 "metadata": {
  "kernelspec": {
   "display_name": "lewagon",
   "language": "python",
   "name": "python3"
  },
  "language_info": {
   "codemirror_mode": {
    "name": "ipython",
    "version": 3
   },
   "file_extension": ".py",
   "mimetype": "text/x-python",
   "name": "python",
   "nbconvert_exporter": "python",
   "pygments_lexer": "ipython3",
   "version": "3.10.6"
  }
 },
 "nbformat": 4,
 "nbformat_minor": 2
}
